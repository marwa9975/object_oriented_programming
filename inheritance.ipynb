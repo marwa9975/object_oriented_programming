{
 "cells": [
  {
   "attachments": {},
   "cell_type": "markdown",
   "metadata": {},
   "source": [
    "## Inheritance"
   ]
  },
  {
   "attachments": {},
   "cell_type": "markdown",
   "metadata": {},
   "source": [
    "* Object-oriented programming (OOP) can be used to create a domain model by defining classes to represent the concepts and their attributes and behaviors. \n",
    "* Inheritance is a mechanism in which a new class is created from an existing class, inheriting all of its attributes and behaviors. \n",
    "* The new class is called the subclass, and the existing class is called the superclass.\n",
    "* The subclass can add or modify attributes and behaviors, as well as inherit those of the superclass. This allows for code reuse and reduces the amount of code that needs to be written"
   ]
  },
  {
   "cell_type": "code",
   "execution_count": 2,
   "metadata": {},
   "outputs": [],
   "source": [
    "class Musician(object):\n",
    "    \n",
    "    def __init__(self, name): # We'll set name at instantiation time to demonstrate passing in arguments to super().__init__()\n",
    "        self.name = name\n",
    "        self.band = \"The Beatles\"\n",
    "    \n",
    "    def tune_instrument(self):\n",
    "        print(\"Tuning Instrument!\")\n",
    "    \n",
    "    def practice(self):\n",
    "        print(\"Practicing!\")\n",
    "        \n",
    "    def perform(self):\n",
    "        print(\"Hello New York!\")\n",
    "        \n",
    "class Singer(Musician):\n",
    "    \n",
    "    def __init__(self, name):\n",
    "        super().__init__(name)  # Notice how we pass in name argument from init to the super().__init() method, because it expects it\n",
    "        self.role = \"Singer\"\n",
    "        \n",
    "    def tune_instrument(self):\n",
    "        print(\"No tuning needed -- I'm a singer!\")\n",
    "    \n",
    "class Guitarist(Musician):\n",
    "    \n",
    "    def __init__(self, name):\n",
    "        super().__init__(name)\n",
    "        self.role = \"Guitarist\"\n",
    "        \n",
    "    def practice(self):\n",
    "        print(\"Strumming the old 6 string!\")\n",
    "        \n",
    "class Bass_Guitarist(Guitarist):\n",
    "    \n",
    "    def __init__(self, name):\n",
    "        super().__init__(name)\n",
    "        self.role = \"Bass Guitarist\"\n",
    "        \n",
    "    def practice(self):\n",
    "        print(\"I play the Seinfeld Theme Song when I get bored\")\n",
    "        \n",
    "    def perform(self):\n",
    "        super().perform()\n",
    "        print(\"Thanks for coming out!\")\n",
    "        \n",
    "class Drummer(Musician):\n",
    "    \n",
    "    def __init__(self, name):\n",
    "        super().__init__(name)\n",
    "        self.role = \"Drummer\"\n",
    "        \n",
    "    def tune_instrument(self):\n",
    "        print('Where did I put those drum sticks?')\n",
    "        \n",
    "    def practice(self):\n",
    "        print('Why does my chair still say \"Pete Best\"?')"
   ]
  },
  {
   "cell_type": "code",
   "execution_count": 3,
   "metadata": {},
   "outputs": [],
   "source": [
    "john = Singer('John Lennon')\n",
    "paul = Bass_Guitarist('Paul McCartney')\n",
    "ringo = Drummer('Ringo Starr')\n",
    "george = Guitarist('George Harrison')\n",
    "\n",
    "the_beatles = [john, ringo, george, paul]"
   ]
  },
  {
   "cell_type": "code",
   "execution_count": 4,
   "metadata": {},
   "outputs": [
    {
     "name": "stdout",
     "output_type": "stream",
     "text": [
      "John Lennon is the Singer!\n",
      "Ringo Starr is the Drummer!\n",
      "George Harrison is the Guitarist!\n",
      "Paul McCartney is the Bass Guitarist!\n"
     ]
    }
   ],
   "source": [
    "for musician in the_beatles:\n",
    "    print('{} is the {}!'.format(musician.name, musician.role))"
   ]
  },
  {
   "cell_type": "code",
   "execution_count": 5,
   "metadata": {},
   "outputs": [
    {
     "name": "stdout",
     "output_type": "stream",
     "text": [
      "No tuning needed -- I'm a singer!\n",
      "Where did I put those drum sticks?\n",
      "Tuning Instrument!\n",
      "Tuning Instrument!\n"
     ]
    }
   ],
   "source": [
    "for musician in the_beatles:\n",
    "    musician.tune_instrument()"
   ]
  },
  {
   "cell_type": "code",
   "execution_count": 6,
   "metadata": {},
   "outputs": [
    {
     "name": "stdout",
     "output_type": "stream",
     "text": [
      "Practicing!\n",
      "Why does my chair still say \"Pete Best\"?\n",
      "Strumming the old 6 string!\n",
      "I play the Seinfeld Theme Song when I get bored\n"
     ]
    }
   ],
   "source": [
    "for musician in the_beatles:\n",
    "    musician.practice()"
   ]
  },
  {
   "cell_type": "code",
   "execution_count": 7,
   "metadata": {},
   "outputs": [
    {
     "name": "stdout",
     "output_type": "stream",
     "text": [
      "Hello New York!\n",
      "Hello New York!\n",
      "Hello New York!\n",
      "Hello New York!\n",
      "Thanks for coming out!\n"
     ]
    }
   ],
   "source": [
    "for musician in the_beatles:\n",
    "    musician.perform()"
   ]
  }
 ],
 "metadata": {
  "kernelspec": {
   "display_name": "Python 3",
   "language": "python",
   "name": "python3"
  },
  "language_info": {
   "codemirror_mode": {
    "name": "ipython",
    "version": 3
   },
   "file_extension": ".py",
   "mimetype": "text/x-python",
   "name": "python",
   "nbconvert_exporter": "python",
   "pygments_lexer": "ipython3",
   "version": "3.11.2"
  },
  "orig_nbformat": 4
 },
 "nbformat": 4,
 "nbformat_minor": 2
}

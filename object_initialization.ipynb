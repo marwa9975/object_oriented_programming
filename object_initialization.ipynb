{
 "cells": [
  {
   "attachments": {},
   "cell_type": "markdown",
   "metadata": {},
   "source": [
    "* The __init__ method is a special method in Python classes that is executed when an object of that class is created. It is also called a constructor method, as it is responsible for initializing the object's instance variables.\n"
   ]
  },
  {
   "cell_type": "code",
   "execution_count": 6,
   "metadata": {},
   "outputs": [],
   "source": [
    "class Passenger():\n",
    "    def __init__(self, name=None, age=None, gender=None):\n",
    "        self.name = name\n",
    "        self.age = age\n",
    "        self.gender = gender "
   ]
  },
  {
   "cell_type": "code",
   "execution_count": 11,
   "metadata": {},
   "outputs": [
    {
     "name": "stdout",
     "output_type": "stream",
     "text": [
      "Hwasa\n",
      "female\n",
      "\n",
      "\n",
      "Yeonjun\n"
     ]
    }
   ],
   "source": [
    "p1 = Passenger('Hwasa', 29, 'female')\n",
    "print(p1.name)\n",
    "print(p1.gender)\n",
    "\n",
    "print('\\n')\n",
    "p2 = Passenger('Yeonjun')\n",
    "print(p2.name)"
   ]
  },
  {
   "cell_type": "code",
   "execution_count": 14,
   "metadata": {},
   "outputs": [],
   "source": [
    "class Person:\n",
    "    def __init__(self, name=None, job=None):\n",
    "        self.name = name\n",
    "        self.job = job"
   ]
  },
  {
   "cell_type": "code",
   "execution_count": 15,
   "metadata": {},
   "outputs": [
    {
     "name": "stdout",
     "output_type": "stream",
     "text": [
      "None\n",
      "None\n",
      "\n",
      "\n",
      "None\n",
      "Carpenter\n",
      "\n",
      "\n",
      "Bob\n",
      "Carpenter\n"
     ]
    }
   ],
   "source": [
    "someone = Person()\n",
    "print(someone.name)\n",
    "print(someone.job)\n",
    "\n",
    "print('\\n')\n",
    "governer = Person(job = 'Carpenter')\n",
    "print(governer.name)\n",
    "print(governer.job)\n",
    "\n",
    "print('\\n')\n",
    "bob = Person('Bob', 'Carpenter')\n",
    "print(bob.name)\n",
    "print(bob.job)"
   ]
  }
 ],
 "metadata": {
  "kernelspec": {
   "display_name": "Python 3",
   "language": "python",
   "name": "python3"
  },
  "language_info": {
   "codemirror_mode": {
    "name": "ipython",
    "version": 3
   },
   "file_extension": ".py",
   "mimetype": "text/x-python",
   "name": "python",
   "nbconvert_exporter": "python",
   "pygments_lexer": "ipython3",
   "version": "3.11.2"
  },
  "orig_nbformat": 4
 },
 "nbformat": 4,
 "nbformat_minor": 2
}

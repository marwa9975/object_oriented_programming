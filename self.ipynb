{
 "cells": [
  {
   "attachments": {},
   "cell_type": "markdown",
   "metadata": {},
   "source": [
    "# self"
   ]
  },
  {
   "attachments": {},
   "cell_type": "markdown",
   "metadata": {},
   "source": [
    "* reference to the current instance of a class. It is a special variable that is passed as the first parameter to instance methods in Python, and it represents the object on which the method is called."
   ]
  },
  {
   "cell_type": "code",
   "execution_count": 8,
   "metadata": {},
   "outputs": [
    {
     "name": "stdout",
     "output_type": "stream",
     "text": [
      "1. {}\n",
      "2  Hi, how are you?\n",
      "3 Yum that was delish!\n",
      "4 {'name': 'Gail', 'age': 29, 'weight': 'None of your business!', 'hungry': False}\n",
      "5 Hi, my name is the snail. it is a pleasure to meet you!\n"
     ]
    }
   ],
   "source": [
    "class Person():\n",
    "\n",
    "    def introduce(self):\n",
    "        return f'Hi, my name is {self.name}. it is a pleasure to meet you!'\n",
    "\n",
    "    def say_hello(self):\n",
    "        return ' Hi, how are you?'\n",
    "    \n",
    "    def eat_breakfast(self):\n",
    "        self.hungry = False\n",
    "        return 'Yum that was delish!'\n",
    "    \n",
    "\n",
    "    \n",
    "gail = Person()\n",
    "print('1.', vars(gail))  \n",
    "gail.name = 'Gail'\n",
    "gail.age = 29\n",
    "gail.weight = 'None of your business!'\n",
    "snail = Person()\n",
    "snail.name = 'the snail'\n",
    "print('2', gail.say_hello())\n",
    "print('3', gail.eat_breakfast())\n",
    "print('4', vars(gail))\n",
    "print('5', snail.introduce())\n"
   ]
  },
  {
   "cell_type": "code",
   "execution_count": 9,
   "metadata": {},
   "outputs": [
    {
     "name": "stdout",
     "output_type": "stream",
     "text": [
      "1.  Hi, my name is the Snail! What wildly humid weather we're having, right?!\n"
     ]
    }
   ],
   "source": [
    "class Person():\n",
    "\n",
    "    def say_hello_and_weather(self, weather_pattern):\n",
    "        # we are using self instead of instance_obj because we know self represents the instance object\n",
    "        return f\"Hi, my name is {self.name}! What wildly {weather_pattern} weather we're having, right?!\"\n",
    "\n",
    "the_snail = Person()\n",
    "the_snail.name = 'the Snail'\n",
    "print('1. ', the_snail.say_hello_and_weather('humid'))\n",
    "# notice that we are ONLY passing in the weather pattern argument\n",
    "# instance methods **implicitly** pass in the instance object as the **first** argument"
   ]
  },
  {
   "cell_type": "code",
   "execution_count": 10,
   "metadata": {},
   "outputs": [
    {
     "name": "stdout",
     "output_type": "stream",
     "text": [
      "1.  29\n",
      "2.  Happy Birthday to the Snail (aka ME)! Can't believe I'm 30?!\n",
      "3.  30\n"
     ]
    }
   ],
   "source": [
    "class Person():\n",
    "\n",
    "    def happy_birthday(self):\n",
    "        self.age += 1\n",
    "        return f\"Happy Birthday to {self.name} (aka ME)! Can't believe I'm {self.age}?!\"\n",
    "\n",
    "the_snail = Person()\n",
    "the_snail.name = 'the Snail'\n",
    "the_snail.age = 29\n",
    "print('1. ', the_snail.age)\n",
    "print('2. ', the_snail.happy_birthday())\n",
    "print('3. ', the_snail.age)"
   ]
  },
  {
   "attachments": {},
   "cell_type": "markdown",
   "metadata": {},
   "source": [
    "## Calling Instance Methods on self"
   ]
  },
  {
   "cell_type": "code",
   "execution_count": 11,
   "metadata": {},
   "outputs": [
    {
     "name": "stdout",
     "output_type": "stream",
     "text": [
      "1.  True\n",
      "Hunger is being relieved\n",
      "2.  Wow, that really hit the spot! I am so full, but more importantly, I'm not hangry anymore!\n",
      "3.  False\n",
      "4.  Oh, I don't think I can eat another bite. Thank you, though!\n"
     ]
    }
   ],
   "source": [
    "class Person():\n",
    "\n",
    "    def eat_sandwhich(self):\n",
    "        if (self.hungry):\n",
    "            self.relieve_hunger()\n",
    "            return \"Wow, that really hit the spot! I am so full, but more importantly, I'm not hangry anymore!\"\n",
    "        else:\n",
    "            return \"Oh, I don't think I can eat another bite. Thank you, though!\"\n",
    "    \n",
    "    def relieve_hunger(self):\n",
    "        print(\"Hunger is being relieved\")\n",
    "        self.hungry = False\n",
    "\n",
    "the_snail = Person()\n",
    "the_snail.name = 'the Snail'\n",
    "the_snail.hungry = True\n",
    "print('1. ', the_snail.hungry)\n",
    "print('2. ', the_snail.eat_sandwhich())\n",
    "print('3. ', the_snail.hungry)\n",
    "print('4. ', the_snail.eat_sandwhich())"
   ]
  }
 ],
 "metadata": {
  "kernelspec": {
   "display_name": "Python 3",
   "language": "python",
   "name": "python3"
  },
  "language_info": {
   "codemirror_mode": {
    "name": "ipython",
    "version": 3
   },
   "file_extension": ".py",
   "mimetype": "text/x-python",
   "name": "python",
   "nbconvert_exporter": "python",
   "pygments_lexer": "ipython3",
   "version": "3.11.2"
  },
  "orig_nbformat": 4
 },
 "nbformat": 4,
 "nbformat_minor": 2
}
